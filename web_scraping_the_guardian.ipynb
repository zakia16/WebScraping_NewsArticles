{
 "cells": [
  {
   "cell_type": "markdown",
   "id": "24bcb9e8",
   "metadata": {},
   "source": [
    "<h1> Web Scraping : The is collected from \"The Guardian\""
   ]
  },
  {
   "cell_type": "code",
   "execution_count": 1,
   "id": "61e3cc0d",
   "metadata": {},
   "outputs": [],
   "source": [
    "import requests\n",
    "from bs4 import BeautifulSoup\n",
    "import numpy as np\n",
    "import pandas as pd\n",
    "import time"
   ]
  },
  {
   "cell_type": "code",
   "execution_count": 2,
   "id": "3238caaf",
   "metadata": {},
   "outputs": [],
   "source": [
    "url = \"https://www.theguardian.com/uk\"\n",
    "\n",
    "#request\n",
    "data  = requests.get(url)\n",
    "data.status_code\n",
    "\n",
    "# Save in coverpage the cover page content\n",
    "coverpage = data.content\n",
    "coverpage\n",
    "\n",
    "# Use BeautifulSoup() to create a BeautifulSoup object from a response text content\n",
    "soup = BeautifulSoup(coverpage, 'html5lib')\n",
    "#soup\n",
    "\n",
    "coverpage_news = soup.find_all('h3')\n",
    "#coverpage_news\n"
   ]
  },
  {
   "cell_type": "code",
   "execution_count": 3,
   "id": "5710f84e",
   "metadata": {},
   "outputs": [
    {
     "data": {
      "text/plain": [
       "<h3 class=\"fc-item__title\"><a class=\"fc-item__link\" data-link-name=\"article\" href=\"https://www.theguardian.com/politics/live/2022/jan/21/boris-johnson-covid-coronavirus-conservatives-tory-labour-politics-live\"><span class=\"fc-item__kicker fc-item__kicker--breaking-news\"><span class=\"live-pulse-icon flashing-image\"></span>Live</span> <span class=\"u-faux-block-link__cta fc-item__headline\"> <span class=\"js-headline-text\">No 10 resists investigation into ‘blackmailing’ of Tory MPs critical of Johnson until ‘evidence’ found </span></span> </a></h3>"
      ]
     },
     "execution_count": 3,
     "metadata": {},
     "output_type": "execute_result"
    }
   ],
   "source": [
    "# Let's print the first article \n",
    "coverpage_news[0]\n"
   ]
  },
  {
   "cell_type": "code",
   "execution_count": 4,
   "id": "4dcbde18",
   "metadata": {},
   "outputs": [
    {
     "name": "stdout",
     "output_type": "stream",
     "text": [
      "Live  No 10 resists investigation into ‘blackmailing’ of Tory MPs critical of Johnson until ‘evidence’ found  \n",
      "https://www.theguardian.com/politics/live/2022/jan/21/boris-johnson-covid-coronavirus-conservatives-tory-labour-politics-live\n"
     ]
    }
   ],
   "source": [
    "#Let's print the first article's content\n",
    "print(coverpage_news[0].get_text())\n",
    "\n",
    "# Let's print the first article's link\n",
    "print(coverpage_news[0].find('a')['href'])"
   ]
  },
  {
   "cell_type": "code",
   "execution_count": 5,
   "id": "888fbd01",
   "metadata": {},
   "outputs": [
    {
     "data": {
      "text/plain": [
       "121"
      ]
     },
     "execution_count": 5,
     "metadata": {},
     "output_type": "execute_result"
    }
   ],
   "source": [
    "len(coverpage_news)"
   ]
  },
  {
   "cell_type": "markdown",
   "id": "5903719d",
   "metadata": {},
   "source": [
    "First, we'll define the number of articles we want:"
   ]
  },
  {
   "cell_type": "code",
   "execution_count": 6,
   "id": "e5f42eab",
   "metadata": {},
   "outputs": [],
   "source": [
    "number_of_articles = 6\n",
    "list_titles = []\n",
    "list_links = []\n",
    "news_contents = []"
   ]
  },
  {
   "cell_type": "code",
   "execution_count": 7,
   "id": "806424ed",
   "metadata": {},
   "outputs": [],
   "source": [
    "i=0\n",
    "for row in coverpage_news:      \n",
    "    if(i==number_of_articles):\n",
    "        break\n",
    "    else:    \n",
    "        list_titles.append(coverpage_news[i].get_text())\n",
    "        list_links.append(coverpage_news[i].find('a')['href'])  \n",
    "    i=i+1    \n",
    "    \n",
    "#list_titles    \n",
    "#list_links"
   ]
  },
  {
   "cell_type": "code",
   "execution_count": 8,
   "id": "a88828c4",
   "metadata": {},
   "outputs": [
    {
     "data": {
      "text/plain": [
       "['Live  No 10 resists investigation into ‘blackmailing’ of Tory MPs critical of Johnson until ‘evidence’ found  ',\n",
       " 'Yemen  More than 200 feared dead or injured after airstrike on prison ',\n",
       " 'Coronavirus  Boris Johnson tells schools in England to end mask-wearing policy ',\n",
       " 'Edinburgh  Scotland’s first black professor accuses academics of racism in slavery row ',\n",
       " 'Meat Loaf  Bat Out of Hell singer dead at 74 ',\n",
       " 'Private healthcare  London NHS hospitals bought £36m of services from US healthcare firm HCA last year ']"
      ]
     },
     "execution_count": 8,
     "metadata": {},
     "output_type": "execute_result"
    }
   ],
   "source": [
    "list_titles "
   ]
  },
  {
   "cell_type": "code",
   "execution_count": 9,
   "id": "cdea0e30",
   "metadata": {},
   "outputs": [
    {
     "data": {
      "text/plain": [
       "['https://www.theguardian.com/politics/live/2022/jan/21/boris-johnson-covid-coronavirus-conservatives-tory-labour-politics-live',\n",
       " 'https://www.theguardian.com/world/2022/jan/21/airstrike-yemen-prison-leaves-many-dead-or-wounded',\n",
       " 'https://www.theguardian.com/education/2022/jan/21/boris-johnson-tells-schools-england-end-mask-wearing-policy',\n",
       " 'https://www.theguardian.com/uk-news/2022/jan/21/scotlands-first-black-professor-accuses-edinburgh-academics-of-racism',\n",
       " 'https://www.theguardian.com/music/2022/jan/21/meat-loaf-bat-out-of-hell-singer-dead-at-74',\n",
       " 'https://www.theguardian.com/society/2022/jan/21/london-nhs-hospitals-bought-36m-of-services-from-us-healthcare-firm-hca-last-year']"
      ]
     },
     "execution_count": 9,
     "metadata": {},
     "output_type": "execute_result"
    }
   ],
   "source": [
    "list_links"
   ]
  },
  {
   "cell_type": "code",
   "execution_count": 10,
   "id": "097ca410",
   "metadata": {},
   "outputs": [],
   "source": [
    "individual_content=[]\n",
    "\n",
    "k=number_of_articles\n",
    "m=0\n",
    "while (k!=0):\n",
    "    # Reading the content (it is divided in paragraphs)\n",
    "    a = requests.get(coverpage_news[m].find('a')['href'])\n",
    "    a.content\n",
    "\n",
    "    soup_article = BeautifulSoup(a.content, 'html5lib')\n",
    "    inside_page_content=soup_article.find_all('p')\n",
    "    inside_page_content\n",
    "\n",
    "    j=0\n",
    "    news_contents=[]\n",
    "    for row in inside_page_content:         \n",
    "        news_contents.append(inside_page_content[j].get_text())\n",
    "        final_article = \" \".join(news_contents)\n",
    "        j=j+1 \n",
    "        \n",
    "    individual_content.append(final_article)    \n",
    "    k=k-1\n",
    "    m=m+1"
   ]
  },
  {
   "cell_type": "code",
   "execution_count": 11,
   "id": "f5d4b0b8",
   "metadata": {},
   "outputs": [
    {
     "data": {
      "text/plain": [
       "['Latest updates: No 10 says investigation will only be launched ‘if there was any evidence’ to support the claims, despite calls from Labour and Tory MPs \\n  Rachel Hall (now) and \\n  Caroline Davies (earlier) \\n    \\n        \\n            Fri 21 Jan 2022 10.14\\xa0EST\\n        \\n    \\n    \\n        \\n    \\n\\n    \\n\\n\\n    \\n        \\n            First published on Fri 21 Jan 2022 04.45\\xa0EST\\n        \\n    \\n\\n    \\n \\n                From    \\n        \\n            8.35am EST\\n        \\n        \\n    \\n\\n \\n        \\n            \\n        \\n        \\n            08:35\\n        \\n    \\n\\n\\n        \\n        \\n     Downing Street was resisting opening an investigation into allegations of Tory MPs being blackmailed into supporting prime minister Boris Johnson as he faces a threat to his leadership, despite a cabinet minister saying they needed to be looked at. Business secretary Kwasi Kwarteng disputed the allegation first made by a senior Conservative, but told Sky News if true it would be “completely unacceptable” and ministers “need to get to the bottom of the matter”. But No 10 suggested on Friday that an investigation would only be launched “if there was any evidence” to support the claims, despite calls from Labour and Tory MPs. A spokesman for the prime minister said: “We’re not aware of any evidence to support what are clearly serious allegations. “If there was any evidence to support it, it would of course be looked at.” Updated\\n            at 8.53am EST\\n         \\n        \\n            \\n        \\n            9.55am EST\\n        \\n        \\n            09:55\\n        \\n    \\n\\n\\n        \\n        \\n     Boris Johnson has waded in to the furore over mask-wearing in classrooms after teachers insisted they would ignore the change in government guidance and ask pupils to continue wearing masks.  A spokesman for the Prime Minister said “children have been one of the hardest hit as a result of the disruption throughout the pandemic”, adding that Johnson “believes it is vital that children are receiving face-to-face education and can enjoy a normal experience in the classroom”.He added:  The prime minister also thinks that the schools should follow the latest guidance. We’ve been clear that we removed the requirement for face masks to be worn in classrooms and we will remove advice for face masks to be worn in communal areas from 27 January.” The Guardian’s full report on the skirmish is here: Updated\\n            at 9.55am EST\\n         \\n        \\n            \\n        \\n            9.48am EST\\n        \\n        \\n            09:48\\n        \\n    \\n\\n\\n        \\n        \\n     Steven Morris Guardian reporter Steven Morris reports on the response to Wales’ first minister Mark Drakeford’s comments earlier. The Tories in Wales are furious at the first minister Mark Drakeford’s comments on Boris Johnson. Drakeford has claimed the easing of restrictions in England is a tactic to distract from the Downing Street parties scandal. Welsh Conservative Senedd leader, Andrew RT Davies MS said:  These are completely unnecessary and inappropriate comments by the first minister and is further proof that it’s always been about the politics, and not the science, for his Labour administration in Cardiff Bay. Davies suggested that Drakeford’s comments were themselves a ploy. “They are a straightforward deflection tactic from a government that has punished Welsh families and businesses with the harshest restrictions in the UK throughout the pandemic.” Updated\\n            at 10.14am EST\\n         \\n        \\n            \\n        \\n            9.03am EST\\n        \\n        \\n            09:03\\n        \\n    \\n\\n\\n        \\n        \\n     Wales’ first minister Mark Drakeford said he was not surprised the prime minister found himself embroiled in partygate, PA reports. He said:  If I’m truthful about it, the prime minister is someone who’s been sacked from two previous jobs for not telling the truth I think The Times wrote an editorial on the eve of the December 2019 election pointing to the many flaws in the prime minister’s record and in many ways, I think what you see is his history catching up with him. Drakeford also criticised the decision taken by the UK government to lift the restrictions in England - accusing them of seeking to distract the public’s attention from Downing Street parties.  Everything that goes on in Whitehall and Westminster at the moment for the UK government is seen exclusively through the lens of ‘how does this make a difference to the efforts that are being made to shore up the position of the prime minister?  This is a Government that at the moment is simply not capable of doing the ordinary business of government in a competent and sensible way because it is overwhelmed by the headlines that surround a dreadful events that went on in Downing Street. Rachel Hall here back on the blog - if you’d like to get in touch I’m at rachel.hall@theguardian.com. Updated\\n            at 9.48am EST\\n         \\n        \\n            \\n        \\n            8.51am EST\\n        \\n        \\n            08:51\\n        \\n    \\n\\n\\n        \\n        \\n     The London mayor’s office said the decision to stand down the major incident declared in London last month comes following the gradual improvement in the number of cases in the capital, the pressures on critical services delivery reducing to manageable levels and a significant improvement in staff absences.   Khan said wearing of masks remained a condition of carriage on TfL The Omicron variant was still with us, and daily infection rates are still too high, he said.  Wearing a face covering remains one of the single most important and easiest things we can all do to prevent the spread of Covid-19 and that’s why I’m renewing my calls for the government to rethink their plans and keep legislation in place to make them mandatory on public transport. They still have a huge role to play in keeping our city open and our friends, family and communities protected. Covid-19 continues to pose a significant threat and our hospitals remain under pressure.  That’s why it’s crucial that Londoners test regularly and report their results, come forward for vaccination and continue to wear a face covering when travelling on TfL services, where it remains a condition of carriage. Updated\\n            at 9.18am EST\\n         \\n        \\n            \\n        \\n            8.39am EST\\n        \\n        \\n            08:39\\n        \\n    \\n\\n\\n        \\n        \\n     The major incident declared in London last month as Omicron spread across the capital has been stood down. Mayor of London Sadiq Khan took the decision on December 18 to declare a major incident due to the spread of the variant, a rise in patients in London hospitals and the impact of staff absences in frontline services. Khan said he is standing down the major incident status but warned the city will remain on high alert. \\n        \\n            \\n        \\n            8.35am EST\\n        \\n        \\n            08:35\\n        \\n    \\n\\n\\n        \\n        \\n            \\n\\n\\n    \\n        \\n \\n\\n    \\n\\n\\n        \\n     Downing Street was resisting opening an investigation into allegations of Tory MPs being blackmailed into supporting prime minister Boris Johnson as he faces a threat to his leadership, despite a cabinet minister saying they needed to be looked at. Business secretary Kwasi Kwarteng disputed the allegation first made by a senior Conservative, but told Sky News if true it would be “completely unacceptable” and ministers “need to get to the bottom of the matter”. But No 10 suggested on Friday that an investigation would only be launched “if there was any evidence” to support the claims, despite calls from Labour and Tory MPs. A spokesman for the prime minister said: “We’re not aware of any evidence to support what are clearly serious allegations. “If there was any evidence to support it, it would of course be looked at.” Updated\\n            at 8.53am EST\\n         \\n        \\n            \\n        \\n            7.30am EST\\n        \\n        \\n            07:30\\n        \\n    \\n\\n\\n        \\n        \\n     Wales has passed the peak of Omicron infections, according to the first minister, Mark Drakeford.Drakeford told a Welsh government briefing:   After many difficult and worrying weeks, I’m very pleased to say the situation has improved significantly. We can say confidently today that we have passed this peak of the Omicron wave and the incredibly high levels of infections we have seen across Wales. It is all your hard work and the ongoing success of our fantastic vaccination programme has helped us through this very challenging period. He said cases peaked at just over 2,300 per 100,000 people in early January before falling back to around 500 cases per 100,000. These are similar to the levels we were experiencing just before the Omicron variant arrived in Wales. But coronavirus is still circulating at high levels in our communities. He added that Office for National Statistics figures suggest “Wales had a lower rate of infection than anywhere else in the UK”, with just one in 25 people infected compared to around one in 20 in the other three nations.  Once again, you can clearly see the gap between Wales and Scotland – where there were increased levels of protections – and in England. Updated\\n            at 7.59am EST\\n         \\n        \\n            \\n        \\n            7.20am EST\\n        \\n        \\n            07:20\\n        \\n    \\n\\n\\n        \\n        \\n     No 10 has insisted the inquiry being carried out by senior official Sue Gray into gatherings across Whitehall during Covid-19 restrictions is independent.Gray’s investigation has consistently been described as “independent” despite her being a senior civil servant.A spokesman for the prime minister said: It is for that inquiry, that team, to establish the facts, we’ve said before ... it’s an independent investigation team, I think we’ve set that out from the start. Updated\\n            at 7.59am EST\\n         \\n        \\n            \\n        \\n            7.15am EST\\n        \\n        \\n            07:15\\n        \\n    \\n\\n\\n        \\n        \\n     The former Tory MP Ben Howlett said he received threats by a then-whip that funds would be withheld from his constituency if he did not support the government in Brexit votes.Howlett, the MP for Bath between 2015 and 2017, told BBC News: I was campaigning for a range of different things for my constituents, particularly my constituents will remember my campaign on link road. There were some very dicey votes for the government and I was campaigning to receive government funding, and of course one of the tactics used to make sure I fell into line on some of the Brexit rebellions was to threaten the withholding of money to pay for an investigation into whether or not this link road would have been built. Updated\\n            at 7.59am EST\\n         \\n        \\n            \\n        \\n            7.05am EST\\n        \\n        \\n            07:05\\n        \\n    \\n\\n\\n        \\n        \\n     Following on from the piece from Conservative Home’s Paul Goodman arguing that there have been rumours of an insidious culture of blackmail among whips for some time, Jim Pickard, the chief political correspondent at the Financial Times, writes on Twitter: The whips threatening to cancel new funding in the constituencies of rebel Tory MPs is the thin end of the wedge.  This administration has embraced pork barrel politics more broadly. He cites earlier reporting from March, in which the chancellor, Rishi Sunak, is asked why 40 out of 45 towns receiving £1bn through new “town deals” happen to have Conservative MPs and why affluent Richmondshire (his seat) is designated as “priority one” in the separate levelling-up fund while places like Barnsley are priority two.Sunak responded that it was all fair and that there was an index of economic need.  - the whips threatening to cancel new funding in the constituencies of rebel Tory MPs is the thin end of the wedge- read this thread to understand how this administration has embraced pork barrel politics more broadly https://t.co/KzuWCM2geH Updated\\n            at 7.22am EST\\n         \\n        \\n            \\n        \\n            6.57am EST\\n        \\n        \\n            06:57\\n        \\n    \\n\\n\\n        \\n        \\n     The former Attorney General Dominic Grieve has told Sky News the government “should not be handing out money for projects in constituencies because they happen to be held by a Conservative member of parliament”.He said:  The remarkable thing is that this allegation is the whips then tried to say we are going to withdraw from funding and I think, William Wragg is absolutely right, this is a form of blackmail and is completely improper if it took place. Of course, the whips are going to arm-twist. They are going to say to people, if you aren’t loyal you won’t be promoted within the party, your chances of ministerial office won’t be good, they will appeal to people’s sense of loyalty as well.  But to stray into the path of saying they are going to regulate government funds... so if you don’t conform to the government’s view and you don’t support the prime minister you won’t get funds for projects in your constituencies is an outrageous act. He added there are “wider issues” about the PM’s leaderships besides from partygate.  Updated\\n            at 7.29am EST\\n         \\n        \\n            \\n        \\n            6.54am EST\\n        \\n        \\n            06:54\\n        \\n    \\n\\n\\n        \\n        \\n     One piece that is gaining a lot of traction on Twitter today is this column by former MP and Conservative Home editor Paul Goodman.His piece argues that there is “no reason to doubt Wragg’s claims”, and that the questions surrounding them likely reflect differing definitions of blackmail. While he’s sceptical that this is ever explicit, he argues it is widely used in subtler ways, enabling whips to evade the scrutiny of the court. He adds that these allegations have not completely come out of nowhere: there were previously rumours that the towns fund was used by the Treasury to pressure “recalcitrant backbenchers” into voting with the government.He writes that Wragg’s allegations are likely the result of a shifting political culture: The dumping of the whips’ dirty linen in TV reports and on front pages would have been unthinkable even a few years ago. But the culture of celebrity is extinguishing the old culture of discretion. He worries that this “culture of celebrity” may end up engulfing the whole party in scandal. Noting that Wragg is known as “serious person”, he writes:  Wragg was throwing the dice when he urged his colleagues to go to the police if necesssary. That his decision will have an effect on the Conservative leadership turmoil scarcely needs saying. Updated\\n            at 7.09am EST\\n         \\n        \\n            \\n        \\n            5.22am EST\\n        \\n        \\n            05:22\\n        \\n    \\n\\n\\n        \\n        \\n     Parts of the north-east, which are some of the worst affected areas by the Omicron wave, are reporting Covid-related fire service staff shortages. In Cleveland there should be 18 fire engines available for use at any one time, but at the moment there are typically levels of only 12-15. In Tyne and Wear, 11% of fire and rescue service staff are off on sick leave, according to the latest figures from the Fire Brigades Union. Staffing levels are also said to be affected in Teeside and County Durham Fire Brigades Union regional secretary for the North East Brian Harris said: Covid is hitting the fire and rescue service hard, with fire engines left out of use in their stations – but this is entirely avoidable. A fire and rescue service with sufficient levels of staffing and decent levels of resilience would be able to continue past these challenges. But across the country we’ve had one in every five firefighters cut since 2010 as financial constraints have hit, so we aren’t in that position. It’s entirely unclear how the government thinks it is acceptable to have a fire and rescue service with such a low level of resilience. In addition to the impact of Covid, fire and rescue services are struggling with 13.8% cuts to government funding - £140 million - between 2016-17 and 2021-22. This has resulted in staffing cuts, with some areas worse affected than others. Cleveland and Tyne and Wear each lost one in three (34%) of their firefighters between 2010 and 2021. Updated\\n            at 5.39am EST\\n         \\n        \\n            \\n        \\n            5.10am EST\\n        \\n        \\n            05:10\\n        \\n    \\n\\n\\n        \\n        \\n     Matthew Weaver The full report of Kwasi Kwarteng’s comments this morning is here, from Guardian reporter Matthew Weaver.He writes:The business secretary, Kwasi Kwarteng, has said allegations of blackmailing by government whips against Tory rebels need to be investigated but are unlikely to be true. Speaking to Sky News, Kwarteng said: “Any form of blackmail and intimidation of that kind simply has no place in British politics.” He added: “We need to get to the bottom of the matter. I’d find it very unlikely that these allegations are true.” \\n        \\n            \\n        \\n            4.53am EST\\n        \\n        \\n            04:53\\n        \\n    \\n\\n\\n        \\n        \\n     Libby Brooks Scotland correspondent Libby Brooks reports:Almost four in five Scots think Boris Johnson should resign over the ongoing Downing Street party revelations, according to a new poll in the Scotsman this morning. Half of those who voted Scottish Conservative in last May’s Holyrood elections also believe he should quit, although the newspaper cautions that this is a smaller and less reliable sub-sample. 54% of respondents also believe that the scandals have hurt the case for the Union, according to the Savanta ComRes poll. In the first test of Scottish public opinion since the allegations emerged of late night partying the day before Prince Philip’s funeral, the polling also suggests that the scandals have not impacted significantly on people’s support for independence, with Yes and No camps evenly split at 50%, meaning that Yes is up two points up from October, excluding don’t knows, and both Yes and No sitting at 46% when 8% don’t knows are taken into account.  \\n        \\n            \\n        \\n            4.49am EST\\n        \\n        \\n            04:49\\n        \\n    \\n\\n\\n        \\n        \\n     Wales first minister Mark Drakeford said Boris Johnson will “never escape the damage to his reputation” over lockdown-breaking parties at No 10.Speaking to Sky News, he said: Conservative MPs have been fighting each other like ferrets in a sack this week, and it’s very hard to see how the prime minister survives. Even if he were to survive, he will just limp on because he’s never going to escape the damage that this week has done to his reputation.” From my point of view, the thing that worries me the most is the fact that the UK government is frozen by the impact of what has happened to them. They’re just not able to make the sorts of decisions you’d expect the government to make, because everything is seen through this lens, the attempt to try and shore up the prime minister to protect him from the attacks that his own side are making on him. That means it’s a government that’s turned in on itself and isn’t capable of doing the job that it was elected to do. Updated\\n            at 5.38am EST\\n         \\n        \\n            \\n        \\n            4.45am EST\\n        \\n        \\n            04:45\\n        \\n    \\n\\n\\n        \\n        \\n     Rachel Hall Good morning. It’s going to be another busy and tumultuous day in Westminster as fears mount inside 10 Downing Street about the contents of civil servant Sue Gray’s report on partygate, while the fallout of yesterday’s blackmail and bullying disclosures continues. Things kicked off this morning with comments from Kwasi Kwarteng, the business secretary, who said blackmail and intimidation “has no place in British politics”. He told Sky News: As far as the specific allegation about whips withholding funds, I think that’s completely unacceptable. I think any form of blackmail and intimidation of that kind simply has no place in British politics. I don’t think it’s something that I’ve ever heard of, I don’t think this would happen. Kwarteng added that he expected an investigation would take place “if it’s not being so already”. However he added that in 12 years as an MP he had “never heard anything like this” and speculated that the allegations could be intended to “discredit” the government. Sky News also reported this morning that there is nervousness in No 10 that the investigation has unearthed damaging evidence and that the report is unlikely to exonerate the prime minister. The report is rumoured to be published as early as Monday. A damning conclusion is likely to spark further calls for Johnson to go, yet close allies of Johnson insist that he will be able to ride out the storm.  One of these is Liz Truss, the foreign secretary, who emphatically told a press conference in Sydney: The prime minister has my 100% support. He is doing an excellent job. I want the prime minister to continue as long as possible in his job. He is doing a fantastic job. Our full report is here:  I’ll be keeping you updated on the key happenings in Westminster over the course of the day, including any major coronavirus-related developments. For more on that, you can check out our global blog: Do drop me a message if there’s anything I’ve missed, you can reach me at rachel.hall@theguardian.com. Have a good day! Updated\\n            at 5.37am EST\\n        ',\n",
       " 'Hospitals overwhelmed in Saada after attack levels buildings in Houthi northern heartland More than 200 people are feared dead or wounded after an airstrike on a prison in Yemen and at least three children were killed in a separate bombardment as the country’s long-running conflict suffered a dramatic escalation. The Houthi rebels released gruesome video footage on Friday showing bodies in the rubble and mangled corpses from the prison attack, which levelled buildings at the jail in their northern heartland of Saada.  Further south in the port town of Hodeida, the children died when airstrikes by the Saudi-led coalition hit a telecommunications facility as they played nearby, Save the Children said. Yemen also suffered a country-wide internet blackout. “The children were reportedly playing on a nearby football field when missiles struck,” Save the Children said. The attacks come five days after the Houthis took the seven-year war into a new phase by claiming a drone-and-missile attack on Abu Dhabi that killed three people. The United Arab Emirates, part of the Saudi-led coalition fighting the rebels, threatened reprisals. Aid workers said hospitals were overwhelmed in Saada after the prison attack, with one receiving 200 wounded, according to Doctors Without Borders. Basheer Omar, spokesperson for the International Committee for the Red Cross in Yemen, told AFP: “There are more than 100 killed and injured … the numbers are going up.” Other sources said 60 had been killed. Ahmed Mahat, Doctors Without Borders’ head of mission in Yemen, said: “There are many bodies still at the scene of the airstrike, many missing people.” “It is impossible to know how many people have been killed. It seems to have been a horrific act of violence.” The United Nations security council is due to meet on Friday in an emergency session on the Houthi attacks against the UAE, at the request of the Gulf state, which has occupied one of the non-permanent seats on the council since 1 January. The UAE is part of the Saudi-led coalition that has been fighting the rebels since 2015, in an intractable conflict that has displaced millions of Yemenis and left them on the brink of famine. The coalition claimed the attack in Hodeida, a lifeline port for the shattered country, but did not say it had carried out any strikes on Saada. Saudi Arabia’s state news agency said the coalition carried out “precision airstrikes … to destroy the capabilities of the Houthi militia in Hodeida”. Yemen’s civil war began in 2014 when the Houthi descended from their base in Saada to overrun the capital Sana’a, prompting Saudi-led forces to intervene to prop up the government the following year. Tensions have soared in recent weeks after the UAE-backed Giants Brigade drove the rebels out of Shabwa province, undermining their months-long campaign to take the key city of Marib further north. Yemen’s civil war has been a catastrophe for millions of its citizens who have fled their homes, with many close to famine in what the UN calls the world’s worst humanitarian crisis. The UN has estimated the war killed 377,000 people by the end of 2021, both directly and indirectly through hunger and disease.',\n",
       " 'PM removes requirement for face masks to be worn in schools despite headteachers’ concerns Last modified on Fri 21 Jan 2022 09.59 EST Boris Johnson has told schools in England to end the wearing of face masks by pupils, overriding headteachers’ concerns and plans by the education secretary to liaise with public health officials over masks during local outbreaks. Johnson’s demand to “follow the latest guidance”, made through his No 10 spokesperson, came after headteachers at secondary schools across England said they would encourage their students to keep wearing masks despite the government withdrawing advice for them to be worn in classrooms.  The prime minister’s spokesperson said: “Children have been one of the hardest hit as a result of the disruption throughout the pandemic and we recognise the impact it has had on their education. The prime minister believes it is vital that children are receiving face-to-face education and can enjoy a normal experience in the classroom and the prime minister also thinks that the schools should follow the latest guidance. “We’ve been clear that we removed the requirement for face masks to be worn in classrooms and we will remove advice for face masks to be worn in communal areas from 27 January.” Johnson’s intervention is likely to further confuse the issue, with school leaders pointing out that official guidance from the Department for Education (DfE) specifies that masks can still be required in schools. The DfE’s advice to parents, updated on Thursday, states: “Your nursery, school or college might advise you that face coverings should temporarily be worn in communal areas or classrooms (by pupils, staff and visitors, unless exempt).” Meanwhile, the education secretary, Nadhim Zahawi, told Conservative MPs that he had agreed with directors of public health to consult with him over reintroducing face masks in schools in the event of “extraordinary” local outbreaks, “so that we can assess evidence and data to ensure any extra measures are proportionate”. Paul Whiteman, the general secretary of the National Association of Head Teachers, said “simplistic” statements from the government could jeopardise efforts to tackle outbreaks in schools. “No one want to see masks worn in schools for longer than is necessary. But it is important to remember that some schools are still dealing with very high levels of Covid in their communities, which is in turn leading to high levels of pupil and staff absence,” Whiteman said. “Schools will continue to work closely with their local public health directors to make sure that they are acting in line with public health advice. It is vital that the government continues to work closely with local public health teams so that schools receive clear and consistent messages. “Simplistic public messaging from the government really is not helping matters either. As the government’s latest guidance makes clear, Covid measures may vary between regions and local public health directors have been given authority to reintroduce face masks in communal spaces when they feel that is required. The government has a duty to be clear with parents on this.” Johnson’s comments steered clear of any threats against schools that retained mask wearing for pupils, with the DfE having no obvious legal powers to enforce its guidance. Geoff Barton, the general secretary of the Association of School and College Leaders, said: “The government’s own guidance says that directors of public health may advise that face masks are needed in classrooms in response to local circumstances, but schools are unlikely to have had any time in which to consult them, or in which to communicate the changes with parents and staff. “It is therefore not surprising if some schools have continued to use face masks for the time being while they resolve these issues.”',\n",
       " 'Sir Geoff Palmer was urged to quit as chair of two panels re-examining Edinburgh’s involvement in slave trade Last modified on Fri 21 Jan 2022 09.22 EST Scotland’s first black professor has accused fellow academics of discrimination after an explosive row over Edinburgh’s links with slavery prompted calls for him to quit as chair of two groups re-examining the city’s history. The row began when Sir Geoff Palmer – who is leading two separate reviews into the city and the university’s involvement in the slave trade – denounced Jonathan Hearn and Sir Tom Devine, current and emeritus professors at Edinburgh University, as members of “an academic racist gang” after Hearn published an article in the Spectator suggesting the city council review risked being “historically superficial” and Devine stepped in to defend him.  Palmer criticised Hearn and Divine in a series of tweets, which focused particularly on their views of Sir Henry Dundas, a controversial figure whose monument in the Scottish capital was vandalised in June 2020 during a Black Lives Matter demonstration. Palmer and others believe Dundas, the leading Whig politician of Scotland in the late 18th century, has been unfairly credited with fighting slavery in Scotland when he held back abolition for a generation by delaying tactics in parliament, and a revised plaque explaining this background was erected at the monument last year. But in his recent article, Hearn argued that historians were still debating whether Dundas delayed abolition and that there was “plenty of evidence to suggest that Dundas’s gradualist approach to abolition – however unsatisfactory it may seem to us in the present day – was the only approach which would be politically successful at the time”. After Palmer’s tweets, Devine called for his dismissal from the review groups, accusing him of “appalling slurs of racism against those whose only fault was to have a different view from his own”. Palmer told the Guardian: “I have been making the same arguments for a long time, but I think this timing has to do with this project, the fact that this work is gaining significance but some historians are unhappy that they are not involved. “This is a public debate and if some people are demanding my dismissal without providing any evidence for it then that is discrimination. If they can provide evidence that I am incompetent and biased then I will step down.” Devine is understood to be taking legal advice, but another prominent academic figure in the city, the UK’s first professor of black male studies, Tommy J Curry, said the row exemplified a naivety in Scottish culture around discussions about race. Hearn said that while he stood by his Spectator article, he had “no ill will” towards Palmer and would be “happy to engage in civil, face-to-face public discussions about our disagreements … My main concern in this is that inquiries into public history need to be conducted in an open manner, with respect for diverse viewpoints.” As the public consultation on the city review comes to an end this week, the council leader, Adam McVey, revealed it had generated thousands of “blatantly racist” responses from supporters of rightwing organisations looking to interfere with the process, saying: “The personal targeting of Geoff that I’ve seen is appalling. I’ve seen groups that are nothing to do with Edinburgh throwing abuse and scaremongering about a process they clearly know nothing about.” He added that the review group, led by Palmer, would now digest the thousands of responses to the consultation in a “considered and mature response”, with the aim “to more honestly tell our city’s history”. Curry, also a professor at Edinburgh University, said the response to Palmer revealed “a naivety of Scottish culture that it wants to have the debate but is not used to having arguments about race where black people themselves have the power to name racism in society”. “This isn’t a difference of opinion,” he said, “it’s about whether history should change based on fact. We’ve acknowledged that Dundas didn’t abolish slavery and did participate in the trade.” Reassessments such as this one had been going on for decades, said Curry, “but there is also a well-established pattern of UK scholars with no knowledge of black or brown scholars’ work in a global context, so everything reads as a political threat, with their only lens of understanding being woke culture of BLM”.',\n",
       " 'Rock’n’roll superstar died at home with his family by his side, his agent confirmed First published on Fri 21 Jan 2022 03.08 EST The US singer and actor Meat Loaf has died aged 74, his agent has confirmed. Born Marvin Lee Aday and later legally known as Michael, the musician died on Thursday with his wife, Deborah Gillespie, by his side. No cause of death was shared. “We know how much he meant to so many of you and we truly appreciate all of the love and support as we move through this time of grief in losing such an inspiring artist and beautiful man,” his family said in a statement. “From his heart to your souls … don’t ever stop rocking!”  Written and composed by Jim Steinman, Meat Loaf’s 1977 debut album Bat Out of Hell remains one of the biggest-selling albums in history. Steinman and Meat Loaf’s 1993 album Bat Out of Hell II: Back Into Hell produced the global hit single I’d Do Anything for Love (But I Won’t Do That). It was his only UK No 1 single, spending seven weeks at the top. He completed the Bat Out of Hell trilogy with The Monster Is Loose in 2006. The three albums have sold more than 65m copies worldwide. Meat Loaf also had a breakout role in the 1975 film version of The Rocky Horror Picture Show playing Eddie, an ill-fated delivery boy who sings the song Hot Patootie. He appeared in more than 50 films and TV shows, among them Fight Club, Wayne’s World and Spiceworld the Movie. In 2021, he signed a deal to develop a relationship competition series titled I’d Do Anything for Love (But I Won’t Do That). The news of the rock star’s death prompted numerous fond tributes. Stephen Fry recalled performing a sketch with him on the UK sketch comedy show Saturday Live in the 1980s. “I hope paradise is as you remember it from the dashboard light, Meat Loaf,” he tweeted. Of their appearance together, he wrote: “He had the quality of being simultaneously frightening and cuddly, which is rare and rather wonderful.” Adam Lambert recalled his kindness: “A gentle hearted powerhouse rockstar forever and ever.” “The vaults of heaven will be ringing with rock,” wrote Andrew Lloyd Webber. “Give my best to Jim.” Music industry executive Pete Waterman called him a “larger-than-life character with a unique voice”, a take echoed by Bonnie Tyler who said he had the “stage presence to match … One of those rare people who truly was a one-off talent and personality.” Aday was born in Dallas, Texas, on 27 September 1947. He was an only child, his mother a school teacher and gospel singer and his father a former police officer who developed alcoholism after being medically discharged from the US army during the second world war. Aday acted in high school productions, studied at Lubbock Christian College and later North Texas State University. After his mother’s death, he moved to Los Angeles – where he worked as a car park attendant and believed that he once picked up a hitchhiking Charles Manson – and formed his first group, Meat Loaf Soul, taking the name from a nickname given to him by a football coach. In Los Angeles, Meat Loaf turned down three early offers of recording contracts and the group plied their trade live, supporting acts such as Van Morrison’s band Them, Taj Mahal, Janis Joplin, the Who, the Fugs, the Stooges and the Grateful Dead. As band members came and went, the group changed its name with every new lineup – among them Floating Circus and Popcorn Blizzard. Popcorn Blizzard moved to Michigan, released an album in 1967 and sold 5,000 copies. Meat Loaf, however, told NME in 1978 that he was “going crazy out there in the woods” and so he moved back to Los Angeles and joined the cast of Hair. He was playing a long game, he explained, exploring other avenues of entertainment that he hoped would ultimately allow him to make music on his terms. “I went into the theatre ’cause I hate bars; I didn’t want to be stuck in a bar band and go sing Top 40 material. To me that’s as bad as selling out. Instead, why not do something that lets your mind be creative?” His role in Hair led to an invitation to record for Motown in collaboration with Shaun “Stoney” Murphy. An album, Stoney & Meatloaf (misspelled) was released in September 1971. After some singles chart success Meat Loaf left the group when Motown replaced his and Murphy’s vocals on the song Who Is the Leader of the People? with those of Edwin Starr. He found success again on stage, starring in an off-Broadway production of Rainbow and a Broadway production of Hair. Auditioning for a production of More Than You Deserve, he met his future collaborator Jim Steinman. In 1973, Meat Loaf was cast in the original Los Angeles production of The Rocky Horror Show, playing Eddie and Dr Everett Scott. He took on the role of Eddie in the later film. His rising fortunes dovetailed with the proper start of his collaboration with Steinman on Bat Out of Hell in 1972, which prompted him to sideline the theatre world. The album had a long gestation, rejected by many labels who didn’t understand its genre-defying style. Todd Rundgren proved the album’s saving grace, producing the record and playing guitar. Finally, Epic imprint Cleveland International Records took a chance and history was made. “I have the patience of a cat,” Meat Loaf told NME. “I’ll sit tight and wait until everything is right.” His debut solo single, You Took the Words Right Out of My Mouth, was released in 1977 and reached the US and UK Top 40. Bat Out of Hell came out at the height of punk, rendering him, a critic for Mojo later suggested, “the uncoolest man in the universe”. Meat Loaf responded: “Put it this way. I got used to it quite easily when the album started selling in its millions.” Nevertheless, he didn’t enjoy success. “The music was epic, the success was epic, everything that came with it was epic,” he told Mojo. “Maybe that’s every teenager’s fantasy. But it wasn’t mine. I hated it because it was not based in reality. To me, the whole celebrity thing was and is a lot of bullshit.” Despite his cool attitude to fame, Meat Loaf had a nervous breakdown following Bat Out of Hell. A mooted follow-up album, Bad for Good, was blighted by Meat Loaf losing his voice thanks to a combination of touring, drugs and exhaustion. Instead, Steinman released Bad for Good as a album and wrote 1981’s Dead Ringer for Meat Loaf, who sang the title track as a duet with Cher.  However, Steinman and Meat Loaf fell out and sued one another – the first of several estrangements – leaving the latter to resort to songwriters-for-hire for his next album, Midnight at the Lost and Found. He was unable to convince his record label to pay for two Steinman songs that Meat Loaf said were written for him – Total Eclipse of the Heart, later a No 1 hit for Bonnie Tyler, and Making Love Out of Nothing at All, a No 2 hit for Air Supply. Although a big live draw, Meat Loaf’s records foundered commercially in the 1980s. That decade, he made forays into comedy, performing in the UK with Hugh Laurie, but he also struggled personally. He told Mojo, “I went off the rails because I was fighting the record company and I was fighting the mob because I was being ripped off. It was then I discovered what a tough motherfucker I was.” But Meat Loaf’s crowning moment was yet to come. Reunited with Steinman, and defying widespread scepticism about his comeback, he released Bat Out of Hell II: Back Into Hell, a global smash that won him Grammy and Brit awards. Critics often asked him about the caveat of I’d Do Anything for Love (But I Won’t Do That). Meat Loaf remained cryptic about the answer, responding that it was all in the song if anyone cared to listen properly. His subsequent 90s albums went platinum in the UK and his profile remained high into the new millennium, but on 17 November 2003, during a performance at Wembley Arena, Meat Loaf collapsed of what was later diagnosed as Wolff-Parkinson-White syndrome. After a surgical procedure, he continued to tour and recorded Bat Out of Hell III with Steinman, released in 2006. A single, It’s All Coming Back to Me Now, charted in the UK at No 6, his highest chart position in almost 11 years. He released his 12th and now final album, Braver Than We Are, in 2016. That year, he collapsed on stage in Canada – leading the New York Post to wrongly report his death – and subsequently committed to better protecting his health. In 2017, the Bat Out of Hell musical opened in the UK. It won the Evening Standard theatre awards prize for best musical. On 19 April 2021, Jim Steinman died of kidney failure. Despite the death of his long term collaborator, Meat Loaf told fans in November that he was due to return to the studio in January 2022 to record songs for a new album. Meat Loaf is survived by his wife, Deborah Gillespie, his daughter Amanda Aday and stepdaughter Pearl Aday from his first marriage to Leslie G Edmonds. Despite the stage name, he was for a time a vegetarian. In 2001, he legally changed his name from Marvin to Michael, having always associated the name Marvin with a Levi’s ad from his youth with the strapline: “Poor fat Marvin can’t wear Levi’s.” He also admitted to social anxiety that prevented him from socialising. Speaking to Mojo, he characterised the public perception of his act: “That I’m overblown, pompous, melodramatic, self-indulgent. I’ve heard it a million times. And the first person to describe me like that was me. It’s supposed to be overblown. The entire history of rock’n’roll is a comedy … Rock’n’roll was never meant to answer the questions of the universe. It’s a laugh. I’m a laugh. So laugh at me if you like. I have no problem with that.”',\n",
       " 'Study shows ‘unprecedented’ level of spending on private cancer care and cardiology during pandemic Last modified on Fri 21 Jan 2022 10.48 EST London NHS hospitals struggling to cope with the Covid-19 pandemic bought £36m of cancer care, cardiology and other services directly from the UK’s largest private healthcare group, HCA, last year. Analysis of monthly public data from NHS trusts, published by the Centre for Health and the Public Interest (CHPI), reveals the extent to which London hospitals have become reliant on private providers, prompting concerns about creeping backdoor privatisation of the health service.  “Covid has been very much used as a cover for shrinking NHS care and expanding private healthcare provision,” said Allyson Pollock, a clinical professor of public health at Newcastle University and an honorary professor at University College London. She said the money would be better used to invest in NHS staffing, equipment and expansion. This level of spending by individual NHS trusts was unprecedented for cancer care and cardiology, said CHPI. The spending is over and above the £2bn so far handed over from central NHS budgets to private hospitals during the pandemic. In recent years NHS hospitals have bought extra capacity from private providers for simple procedures such as hip and knee operations, but they have not previously spent large sums outsourcing more complex treatments.  HCA said its support had allowed 14,000 complex cardiac and cancer NHS patients to receive the care they needed. Many of them were casualties of the widespread suspension of normal care during the pandemic, as resources were diverted away from many specialisms, including cancer, to treat Covid-19 patients.  By outsourcing some of the most pressing cases on their backlog to HCA, trusts ensured that those most in need were cared for. Prior to the pandemic, HCA carried out virtually no work for the NHS. Founded in Nashville, Tennessee, in 1968, and listed on the New York stock exchange, HCA is the largest healthcare company in the world and has more than 30 hospitals and clinics in London and Manchester, with another one due to open in Birmingham this year. CHPI’s research shows the company was the biggest private beneficiary of funds spent on cancer care and cardiology direct from NHS hospital trusts in London between December 2020 and December 2021. The biggest spender was Guy’s and St Thomas’ NHS foundation trust, which bought more than £20m of services from HCA. Barts was the second largest spender, with £10m. University College London hospital (UCLH), Imperial College, Chelsea and Westminster, and the Royal Free also paid for HCA services. “The extent to which the private sector is now being used to deliver NHS cancer care services is unprecedented,” said David Rowland, the director of the CHPI. “We estimate it is only likely to grow as the NHS comes under more pressure over the next few months.” HCA said it had chosen not to take part in a deal struck between NHS England and private hospitals this month for up to £525m for reserve beds and staff in case of an Omicron admissions surge. A spokesperson for the firm’s UK arm said: “We can safely provide this level of complex care because of the deep clinical infrastructure we have in our hospitals, which includes the highest levels of intensive care and trained staffing support. We work with NHS trusts on an individual basis and in response to their requests for support.” The fees the London NHS trusts paid to HCA were covered either by NHS England, which has agreed to pay private hospitals £10bn over four years to help tackle its backlog, or from the Treasury-funded elective recovery fund, created last summer to help hospitals recover their levels of activity post pandemic. Guy’s and St Thomas’ said the money had been mainly spent on oncology and cardiology, as waiting lists had risen during the pandemic. A record 6 million people are on NHS waiting lists for routine hospital care in England. A trust spokesperson said: “We have worked with HCA to provide complex elective care from admission to discharge, including surgery and supporting diagnostic services, such as scans, while continuing to maintain urgent and emergency care to Covid and non-Covid patients on our NHS sites.” Barts Health NHS trust mainly bought cardiology and breast cancer surgery services from HCA. A Barts spokesperson said: “The trust has used HCA to enable staff to continue to provide planned care in a separate Covid-free environment while hospitals prioritised urgent and emergency care and Covid-19 patients.” He added that as the pandemic eased, it was likely that Barts would continue to use the private sector to assist with reducing waiting times. UCLH spent almost £3m with HCA last year, buying more than 500 procedures, most of them surgery for breast, head, neck, bladder and stomach cancers.  Imperial College Healthcare NHS trust spent £2.6m. Chelsea and Westminster hospital bought nearly £900,000 of services from the company, while the Royal free hospital spent £2,000. Chelsea and Westminster said it used HCA mainly to provide colorectal and gynaecology cancer treatment to patients, primarily between December 2020 and March 2021. “This short-term measure must not become a long-term expediency to running down the NHS in favour of the private sector,” said Colin Hutchinson, the chair of the campaign group Doctors for the NHS. “The principal reason the NHS now needs to make use of the private sector is because of long-term underinvestment.”']"
      ]
     },
     "execution_count": 11,
     "metadata": {},
     "output_type": "execute_result"
    }
   ],
   "source": [
    "individual_content"
   ]
  },
  {
   "cell_type": "code",
   "execution_count": 12,
   "id": "8ffc65f7",
   "metadata": {},
   "outputs": [],
   "source": [
    "# Show Everything\n",
    "df_info = pd.DataFrame(\n",
    "    {'Article Title': list_titles,\n",
    "     'Article Link': list_links,\n",
    "     'Article Content': individual_content\n",
    "    })"
   ]
  },
  {
   "cell_type": "code",
   "execution_count": 13,
   "id": "a13f7db6",
   "metadata": {},
   "outputs": [
    {
     "data": {
      "text/html": [
       "<div>\n",
       "<style scoped>\n",
       "    .dataframe tbody tr th:only-of-type {\n",
       "        vertical-align: middle;\n",
       "    }\n",
       "\n",
       "    .dataframe tbody tr th {\n",
       "        vertical-align: top;\n",
       "    }\n",
       "\n",
       "    .dataframe thead th {\n",
       "        text-align: right;\n",
       "    }\n",
       "</style>\n",
       "<table border=\"1\" class=\"dataframe\">\n",
       "  <thead>\n",
       "    <tr style=\"text-align: right;\">\n",
       "      <th></th>\n",
       "      <th>Article Title</th>\n",
       "      <th>Article Link</th>\n",
       "      <th>Article Content</th>\n",
       "    </tr>\n",
       "  </thead>\n",
       "  <tbody>\n",
       "    <tr>\n",
       "      <th>0</th>\n",
       "      <td>Live  No 10 resists investigation into ‘blackm...</td>\n",
       "      <td>https://www.theguardian.com/politics/live/2022...</td>\n",
       "      <td>Latest updates: No 10 says investigation will ...</td>\n",
       "    </tr>\n",
       "    <tr>\n",
       "      <th>1</th>\n",
       "      <td>Yemen  More than 200 feared dead or injured af...</td>\n",
       "      <td>https://www.theguardian.com/world/2022/jan/21/...</td>\n",
       "      <td>Hospitals overwhelmed in Saada after attack le...</td>\n",
       "    </tr>\n",
       "    <tr>\n",
       "      <th>2</th>\n",
       "      <td>Coronavirus  Boris Johnson tells schools in En...</td>\n",
       "      <td>https://www.theguardian.com/education/2022/jan...</td>\n",
       "      <td>PM removes requirement for face masks to be wo...</td>\n",
       "    </tr>\n",
       "    <tr>\n",
       "      <th>3</th>\n",
       "      <td>Edinburgh  Scotland’s first black professor ac...</td>\n",
       "      <td>https://www.theguardian.com/uk-news/2022/jan/2...</td>\n",
       "      <td>Sir Geoff Palmer was urged to quit as chair of...</td>\n",
       "    </tr>\n",
       "    <tr>\n",
       "      <th>4</th>\n",
       "      <td>Meat Loaf  Bat Out of Hell singer dead at 74</td>\n",
       "      <td>https://www.theguardian.com/music/2022/jan/21/...</td>\n",
       "      <td>Rock’n’roll superstar died at home with his fa...</td>\n",
       "    </tr>\n",
       "    <tr>\n",
       "      <th>5</th>\n",
       "      <td>Private healthcare  London NHS hospitals bough...</td>\n",
       "      <td>https://www.theguardian.com/society/2022/jan/2...</td>\n",
       "      <td>Study shows ‘unprecedented’ level of spending ...</td>\n",
       "    </tr>\n",
       "  </tbody>\n",
       "</table>\n",
       "</div>"
      ],
      "text/plain": [
       "                                       Article Title  \\\n",
       "0  Live  No 10 resists investigation into ‘blackm...   \n",
       "1  Yemen  More than 200 feared dead or injured af...   \n",
       "2  Coronavirus  Boris Johnson tells schools in En...   \n",
       "3  Edinburgh  Scotland’s first black professor ac...   \n",
       "4      Meat Loaf  Bat Out of Hell singer dead at 74    \n",
       "5  Private healthcare  London NHS hospitals bough...   \n",
       "\n",
       "                                        Article Link  \\\n",
       "0  https://www.theguardian.com/politics/live/2022...   \n",
       "1  https://www.theguardian.com/world/2022/jan/21/...   \n",
       "2  https://www.theguardian.com/education/2022/jan...   \n",
       "3  https://www.theguardian.com/uk-news/2022/jan/2...   \n",
       "4  https://www.theguardian.com/music/2022/jan/21/...   \n",
       "5  https://www.theguardian.com/society/2022/jan/2...   \n",
       "\n",
       "                                     Article Content  \n",
       "0  Latest updates: No 10 says investigation will ...  \n",
       "1  Hospitals overwhelmed in Saada after attack le...  \n",
       "2  PM removes requirement for face masks to be wo...  \n",
       "3  Sir Geoff Palmer was urged to quit as chair of...  \n",
       "4  Rock’n’roll superstar died at home with his fa...  \n",
       "5  Study shows ‘unprecedented’ level of spending ...  "
      ]
     },
     "execution_count": 13,
     "metadata": {},
     "output_type": "execute_result"
    }
   ],
   "source": [
    "df_info"
   ]
  },
  {
   "cell_type": "code",
   "execution_count": null,
   "id": "71ce9d89",
   "metadata": {},
   "outputs": [],
   "source": []
  },
  {
   "cell_type": "code",
   "execution_count": null,
   "id": "0c3d4c0b",
   "metadata": {},
   "outputs": [],
   "source": []
  }
 ],
 "metadata": {
  "kernelspec": {
   "display_name": "Python 3",
   "language": "python",
   "name": "python3"
  },
  "language_info": {
   "codemirror_mode": {
    "name": "ipython",
    "version": 3
   },
   "file_extension": ".py",
   "mimetype": "text/x-python",
   "name": "python",
   "nbconvert_exporter": "python",
   "pygments_lexer": "ipython3",
   "version": "3.8.8"
  }
 },
 "nbformat": 4,
 "nbformat_minor": 5
}
